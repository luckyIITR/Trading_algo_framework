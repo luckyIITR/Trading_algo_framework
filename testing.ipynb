{
 "cells": [
  {
   "cell_type": "code",
   "execution_count": 43,
   "id": "26aee153-9796-41bd-8f68-2bfdaf10d1d9",
   "metadata": {},
   "outputs": [],
   "source": [
    "import datetime\n",
    "\n",
    "holidays = [\n",
    "    datetime.date(2024, 12, 25),\n",
    "    datetime.date(2025, 2, 26),\n",
    "    datetime.date(2025, 3, 14),\n",
    "    datetime.date(2025, 3, 31),\n",
    "    datetime.date(2025, 4, 10),\n",
    "    datetime.date(2025, 4, 14),\n",
    "    datetime.date(2025, 4, 18),\n",
    "    datetime.date(2025, 5, 1),\n",
    "    datetime.date(2025, 8, 15),\n",
    "    datetime.date(2025, 8, 27),\n",
    "    datetime.date(2025, 10, 2),\n",
    "    datetime.date(2025, 10, 21),\n",
    "    datetime.date(2025, 10, 22),\n",
    "    datetime.date(2025, 11, 5),\n",
    "    datetime.date(2025, 12, 25)\n",
    "]"
   ]
  },
  {
   "cell_type": "code",
   "execution_count": 46,
   "id": "7915bf6c-29cb-40fa-992b-fc4387151ebd",
   "metadata": {},
   "outputs": [
    {
     "data": {
      "text/plain": [
       "[datetime.date(2024, 12, 25),\n",
       " datetime.date(2025, 2, 26),\n",
       " datetime.date(2025, 3, 14),\n",
       " datetime.date(2025, 3, 31),\n",
       " datetime.date(2025, 4, 10),\n",
       " datetime.date(2025, 4, 14),\n",
       " datetime.date(2025, 4, 18),\n",
       " datetime.date(2025, 5, 1),\n",
       " datetime.date(2025, 8, 15),\n",
       " datetime.date(2025, 8, 27),\n",
       " datetime.date(2025, 10, 2),\n",
       " datetime.date(2025, 10, 21),\n",
       " datetime.date(2025, 10, 22),\n",
       " datetime.date(2025, 11, 5),\n",
       " datetime.date(2025, 12, 25)]"
      ]
     },
     "execution_count": 46,
     "metadata": {},
     "output_type": "execute_result"
    }
   ],
   "source": [
    "holidays"
   ]
  },
  {
   "cell_type": "code",
   "execution_count": 49,
   "id": "81a34525-ceb5-473e-b8b7-783f07598ba3",
   "metadata": {},
   "outputs": [],
   "source": [
    "def nearest_day(date, expiry_day):\n",
    "    \"\"\"\n",
    "    Calculate the nearest date for the given day of the week.\n",
    "    Adjusts to the prior day if the nearest date is a holiday.\n",
    "    \n",
    "    Args:\n",
    "    date (datetime.date): The starting date.\n",
    "    expiry_day (str): Name of the target day (e.g., \"Monday\").\n",
    "    holidays (list): List of datetime.date objects representing holidays.\n",
    "    \n",
    "    Returns:\n",
    "    datetime.date: The nearest non-holiday date for the target day.\n",
    "    \"\"\"\n",
    "    # Map day names to integers\n",
    "    day_name_to_int = {\n",
    "        \"Monday\": 0,\n",
    "        \"Tuesday\": 1,\n",
    "        \"Wednesday\": 2,\n",
    "        \"Thursday\": 3,\n",
    "        \"Friday\": 4,\n",
    "        \"Saturday\": 5,\n",
    "        \"Sunday\": 6,\n",
    "    }\n",
    "    target_day = day_name_to_int[expiry_day]\n",
    "    days_ahead = target_day - date.weekday()\n",
    "    if days_ahead < 0:  # If target day already passed this week\n",
    "        days_ahead += 7\n",
    "    nearest_date = date + datetime.timedelta(days=days_ahead)\n",
    "    \n",
    "    # Check if the nearest date is a holiday, and adjust if necessary\n",
    "    while nearest_date in holidays:\n",
    "        nearest_date -= datetime.timedelta(days=1)\n",
    "    \n",
    "    return nearest_date\n"
   ]
  },
  {
   "cell_type": "code",
   "execution_count": 48,
   "id": "3bd3e1d5-066c-4ae8-8341-6d4f61433cd4",
   "metadata": {},
   "outputs": [
    {
     "data": {
      "text/plain": [
       "datetime.date(2024, 12, 26)"
      ]
     },
     "execution_count": 48,
     "metadata": {},
     "output_type": "execute_result"
    }
   ],
   "source": [
    "holidays = [1,]\n",
    "nearest_day(datetime.date(2024, 12, 22), \"Thursday\")"
   ]
  },
  {
   "cell_type": "code",
   "execution_count": 66,
   "id": "e6c81bef-ef05-4097-a33f-0cf3ab02c5e7",
   "metadata": {},
   "outputs": [],
   "source": [
    "def get_last_weekday_of_month(date, weekday_name):\n",
    "    # Map weekday names to their corresponding integer values (Monday=0, Sunday=6)\n",
    "    weekdays = {\n",
    "        \"Monday\": 0,\n",
    "        \"Tuesday\": 1,\n",
    "        \"Wednesday\": 2,\n",
    "        \"Thursday\": 3,\n",
    "        \"Friday\": 4,\n",
    "        \"Saturday\": 5,\n",
    "        \"Sunday\": 6,\n",
    "    }\n",
    "\n",
    "    if weekday_name not in weekdays:\n",
    "        raise ValueError(\"Invalid weekday name. Use full names like 'Monday', 'Tuesday', etc.\")\n",
    "\n",
    "    # Extract the year and month from the given date\n",
    "    year, month = date.year, date.month\n",
    "\n",
    "    # Get the last day of the month\n",
    "    if month == 12:\n",
    "        last_day_of_month = datetime.date(year + 1, 1, 1) - datetime.timedelta(days=1)\n",
    "    else:\n",
    "        last_day_of_month = datetime.date(year, month + 1, 1) - datetime.timedelta(days=1)\n",
    "\n",
    "    # Find the last occurrence of the given weekday in the current month\n",
    "    last_weekday_of_month = last_day_of_month\n",
    "    while last_weekday_of_month.weekday() != weekdays[weekday_name]:\n",
    "        last_weekday_of_month -= datetime.timedelta(days=1)\n",
    "\n",
    "    # Check if the date has already passed\n",
    "    if date > last_weekday_of_month:\n",
    "        # If passed, calculate for the next month\n",
    "        if month == 12:\n",
    "            next_month = 1\n",
    "            next_year = year + 1\n",
    "        else:\n",
    "            next_month = month + 1\n",
    "            next_year = year\n",
    "        last_day_of_next_month = datetime.date(next_year, next_month + 1, 1) - datetime.timedelta(days=1)\n",
    "\n",
    "        last_weekday_of_next_month = last_day_of_next_month\n",
    "        while last_weekday_of_next_month.weekday() != weekdays[weekday_name]:\n",
    "            last_weekday_of_next_month -= datetime.timedelta(days=1)\n",
    "\n",
    "        return last_weekday_of_next_month\n",
    "        \n",
    "    # Check if the nearest date is a holiday, and adjust if necessary\n",
    "    while last_weekday_of_next_month in holidays:\n",
    "        last_weekday_of_next_month -= datetime.timedelta(days=1)\n",
    "        \n",
    "    return last_weekday_of_month"
   ]
  },
  {
   "cell_type": "code",
   "execution_count": null,
   "id": "df0ca7d2-3ca5-445b-af82-0a3cf87f85e2",
   "metadata": {},
   "outputs": [],
   "source": []
  },
  {
   "cell_type": "code",
   "execution_count": null,
   "id": "374662a8-5cb8-411a-96cf-43de3ae22f69",
   "metadata": {},
   "outputs": [],
   "source": []
  }
 ],
 "metadata": {
  "kernelspec": {
   "display_name": "Python [conda env:backtest] *",
   "language": "python",
   "name": "conda-env-backtest-py"
  },
  "language_info": {
   "codemirror_mode": {
    "name": "ipython",
    "version": 3
   },
   "file_extension": ".py",
   "mimetype": "text/x-python",
   "name": "python",
   "nbconvert_exporter": "python",
   "pygments_lexer": "ipython3",
   "version": "3.12.4"
  }
 },
 "nbformat": 4,
 "nbformat_minor": 5
}
