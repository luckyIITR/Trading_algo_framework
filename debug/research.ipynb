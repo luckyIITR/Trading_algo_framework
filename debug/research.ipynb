{
 "cells": [
  {
   "cell_type": "code",
   "execution_count": 1,
   "id": "57442cff-5ddc-491f-a244-87d47c51a9b3",
   "metadata": {},
   "outputs": [],
   "source": [
    "import logging\n",
    "from kiteconnect import KiteConnect\n",
    "from dotenv import load_dotenv\n",
    "import os\n",
    "import json\n",
    "\n",
    "logging.basicConfig(level=logging.DEBUG)\n",
    "\n",
    "# Load .env file\n",
    "load_dotenv(\"../config/.env\")\n",
    "\n",
    "with open(\"../config/zerodha.json\", \"r\") as file:\n",
    "    config = json.load(file)\n",
    "\n",
    "class Login:\n",
    "    def __init__(self):\n",
    "        self.api_key = os.getenv(\"api_key\")\n",
    "        self.api_secret = os.getenv(\"api_secret\")\n",
    "        self.access_token = config['access_token']\n",
    "        self.kite = KiteConnect(api_key=self.api_key)\n",
    "        self.kite.set_access_token(self.access_token)\n",
    "        \n",
    "        # try to see if token is still valid\n",
    "        try:\n",
    "            profile_data = self.kite.profile()\n",
    "            logging.info(f\"User ID: {profile_data['user_id']}, {profile_data['user_name']} Connected!\")\n",
    "        except Exception as e:\n",
    "            logging.error(f\"{e}, Getting new token...\")\n",
    "            self.get_new_token()\n",
    "        \n",
    "    def get_new_token(self):\n",
    "        url = self.kite.login_url()\n",
    "        print(url)\n",
    "        request_token = input(\"Enter Request token: \")\n",
    "        new_session_data = self.kite.generate_session(request_token=request_token, api_secret=self.api_secret)\n",
    "        logging.info(f\"User ID: {new_session_data['user_id']}, {new_session_data['user_name']} Connected!\")\n",
    "        self.access_token = new_session_data[\"access_token\"]\n",
    "        self.kite.set_access_token(self.access_token)\n",
    "        config_data = {\n",
    "            'access_token' : self.access_token\n",
    "        }\n",
    "        with open('../config/zerodha.json', 'w') as jsonfile:\n",
    "            json.dump(config_data, jsonfile, indent=4)\n",
    "    \n",
    "    def get_broker_handler(self):\n",
    "        return self.kite\n"
   ]
  },
  {
   "cell_type": "code",
   "execution_count": null,
   "id": "85d7629c-8526-41f5-95c9-73624304dea7",
   "metadata": {},
   "outputs": [],
   "source": []
  },
  {
   "cell_type": "code",
   "execution_count": null,
   "id": "8951af73-4cba-44d5-8de2-eab41c74fdb8",
   "metadata": {},
   "outputs": [],
   "source": []
  },
  {
   "cell_type": "code",
   "execution_count": null,
   "id": "2971a350-dd4a-4cf9-a03b-67c9288475cf",
   "metadata": {
    "scrolled": true
   },
   "outputs": [],
   "source": [
    "import logging\n",
    "from kiteconnect import KiteTicker\n",
    "import os\n",
    "from dotenv import load_dotenv\n",
    "import json\n",
    "import time\n",
    "logging.basicConfig(level=logging.DEBUG)\n",
    "\n",
    "# Load .env file\n",
    "load_dotenv(\"../config/.env\")\n",
    "\n",
    "with open(\"../config/zerodha.json\", \"r\") as file:\n",
    "    config = json.load(file)\n",
    "    \n",
    "api_key = os.getenv(\"api_key\")\n",
    "access_token = config['access_token']\n",
    "\n",
    "# Initialise\n",
    "kws = KiteTicker(api_key, access_token)\n",
    "\n",
    "def on_ticks(ws, ticks):\n",
    "    # Callback to receive ticks.\n",
    "    logging.debug(\"Ticks: {}\".format(ticks))\n",
    "\n",
    "def on_connect(ws, response):\n",
    "    # Callback on successful connect.\n",
    "    # Subscribe to a list of instrument_tokens (RELIANCE and ACC here).\n",
    "    ws.subscribe([738561])\n",
    "\n",
    "    # Set RELIANCE to tick in `full` mode.\n",
    "    ws.set_mode(ws.MODE_LTP, [738561])\n",
    "\n",
    "def on_close(ws, code, reason):\n",
    "    # On connection close stop the event loop.\n",
    "    # Reconnection will not happen after executing `ws.stop()`\n",
    "    print(\"Connect is closing......\")\n",
    "    ws.stop()\n",
    "\n",
    "def on_order_update(ws, data):\n",
    "    # On connection close stop the event loop.\n",
    "    # Reconnection will not happen after executing `ws.stop()`\n",
    "    logging.info(f\"orderUpdate : {data}\")\n",
    "\n",
    "# Assign the callbacks.\n",
    "kws.on_ticks = on_ticks\n",
    "kws.on_connect = on_connect\n",
    "kws.on_close = on_close\n",
    "kws.on_order_update = on_order_update\n",
    "\n",
    "# Infinite loop on the main thread. Nothing after this will run.\n",
    "# You have to use the pre-defined callbacks to manage subscriptions.\n",
    "try:\n",
    "    kws.connect(threaded=True)\n",
    "except KeyboardInterrupt:\n",
    "    logging.info(\"WebSocket connection interrupted by user.\")\n",
    "    kws.stop()"
   ]
  },
  {
   "cell_type": "code",
   "execution_count": null,
   "id": "34f6e763-759f-48b6-a3eb-f78da5a6840b",
   "metadata": {},
   "outputs": [],
   "source": [
    "class ShortStraddle:\n",
    "    def __init__(self):\n",
    "        pass\n",
    "\n",
    "    def order_update(self, data):\n",
    "        logging.info(f\"Order Update: {data}\")\n",
    "    "
   ]
  },
  {
   "cell_type": "code",
   "execution_count": 5,
   "id": "10ff5b82-1d92-408c-a9d1-1ee331b62e20",
   "metadata": {},
   "outputs": [
    {
     "data": {
      "text/plain": [
       "True"
      ]
     },
     "execution_count": 5,
     "metadata": {},
     "output_type": "execute_result"
    }
   ],
   "source": [
    "kws.unsubscribe([738561])"
   ]
  },
  {
   "cell_type": "code",
   "execution_count": 7,
   "id": "3ffbde4d-f46b-41df-a880-8982f8ecb966",
   "metadata": {},
   "outputs": [
    {
     "data": {
      "text/plain": [
       "True"
      ]
     },
     "execution_count": 7,
     "metadata": {},
     "output_type": "execute_result"
    }
   ],
   "source": [
    "kws.set_mode(kws.MODE_LTP, [738561])"
   ]
  },
  {
   "cell_type": "code",
   "execution_count": 2,
   "id": "98a14f79-22d4-4cb5-94ab-6e604cac6b17",
   "metadata": {},
   "outputs": [],
   "source": [
    "from pprint import pprint"
   ]
  },
  {
   "cell_type": "code",
   "execution_count": 3,
   "id": "b411c52b-e852-435a-b333-a56ac0c817bb",
   "metadata": {},
   "outputs": [
    {
     "name": "stderr",
     "output_type": "stream",
     "text": [
      "DEBUG:urllib3.connectionpool:Starting new HTTPS connection (1): api.kite.trade:443\n",
      "DEBUG:urllib3.connectionpool:https://api.kite.trade:443 \"GET /user/profile HTTP/11\" 403 None\n",
      "ERROR:root:Incorrect `api_key` or `access_token`., Getting new token...\n"
     ]
    },
    {
     "name": "stdout",
     "output_type": "stream",
     "text": [
      "https://kite.zerodha.com/connect/login?api_key=y2at7u364p9vx14y&v=3\n"
     ]
    },
    {
     "name": "stdin",
     "output_type": "stream",
     "text": [
      "Enter Request token:  zs8f4rbNPMw19MtzoTinX0XyehSp1hKw\n"
     ]
    },
    {
     "name": "stderr",
     "output_type": "stream",
     "text": [
      "DEBUG:urllib3.connectionpool:https://api.kite.trade:443 \"POST /session/token HTTP/11\" 200 None\n",
      "INFO:root:User ID: BI3034, Lucky Kushwaha Connected!\n"
     ]
    }
   ],
   "source": [
    "obj = Login()"
   ]
  },
  {
   "cell_type": "code",
   "execution_count": 4,
   "id": "63268027-10f4-4e65-b0ae-accd1fc394d8",
   "metadata": {},
   "outputs": [],
   "source": [
    "kite_handler = obj.get_broker_handler()"
   ]
  },
  {
   "cell_type": "code",
   "execution_count": 5,
   "id": "e76ee1a6-5882-4ac3-aa4d-bfd968143e8d",
   "metadata": {},
   "outputs": [
    {
     "name": "stderr",
     "output_type": "stream",
     "text": [
      "DEBUG:urllib3.connectionpool:https://api.kite.trade:443 \"GET /portfolio/positions HTTP/11\" 200 None\n"
     ]
    }
   ],
   "source": [
    "data = kite_handler.positions()"
   ]
  },
  {
   "cell_type": "code",
   "execution_count": 22,
   "id": "2f3652d9-a41c-4012-a587-63809f2bca65",
   "metadata": {
    "scrolled": true
   },
   "outputs": [
    {
     "name": "stderr",
     "output_type": "stream",
     "text": [
      "DEBUG:urllib3.connectionpool:https://api.kite.trade:443 \"GET /quote/ohlc?i=NSE%3ANIFTY+50 HTTP/11\" 200 None\n"
     ]
    },
    {
     "data": {
      "text/plain": [
       "{'NSE:NIFTY 50': {'instrument_token': 256265,\n",
       "  'last_price': 23769.1,\n",
       "  'ohlc': {'open': 23769.1,\n",
       "   'high': 23769.1,\n",
       "   'low': 23769.1,\n",
       "   'close': 23753.45}}}"
      ]
     },
     "execution_count": 22,
     "metadata": {},
     "output_type": "execute_result"
    }
   ],
   "source": [
    "kite_handler.ohlc(\"NSE:NIFTY 50\")"
   ]
  },
  {
   "cell_type": "markdown",
   "id": "721aebde-b2cc-4568-90b3-b5227165ce25",
   "metadata": {},
   "source": [
    "# Instrument\n"
   ]
  },
  {
   "cell_type": "code",
   "execution_count": 11,
   "id": "3cfcb8dd-d60d-47dd-85a8-0a2a3790199f",
   "metadata": {},
   "outputs": [],
   "source": [
    "def fetchInstrumentsFromServer():\n",
    "    instrumentsList = []\n",
    "    try:\n",
    "      brokerHandle = kite_handler\n",
    "      logging.info('Going to fetch instruments from server...')\n",
    "      instrumentsList = brokerHandle.instruments('NSE')\n",
    "      instrumentsListFnO = brokerHandle.instruments('NFO')\n",
    "      # Add FnO instrument list to the main list\n",
    "      instrumentsList.extend(instrumentsListFnO)\n",
    "      logging.info('Fetched %d instruments from server.', len(instrumentsList))\n",
    "    except Exception as e:\n",
    "      logging.exception(\"Exception while fetching instruments from server\")\n",
    "    return instrumentsList\n",
    "\n",
    "def getInstrumentDataBySymbol(tradingSymbol):\n",
    "    return Instruments.symbolToInstrumentMap[tradingSymbol]\n",
    "\n",
    "def getInstrumentDataByToken(instrumentToken):\n",
    "    return Instruments.tokenToInstrumentMap[instrumentToken]"
   ]
  },
  {
   "cell_type": "code",
   "execution_count": 9,
   "id": "5f8820f1-eec1-4f1e-aad0-e320684434d0",
   "metadata": {},
   "outputs": [
    {
     "name": "stderr",
     "output_type": "stream",
     "text": [
      "INFO:root:Going to fetch instruments from server...\n",
      "DEBUG:urllib3.connectionpool:https://api.kite.trade:443 \"GET /instruments/NSE HTTP/11\" 200 126878\n",
      "DEBUG:urllib3.connectionpool:https://api.kite.trade:443 \"GET /instruments/NFO HTTP/11\" 200 502858\n",
      "INFO:root:Fetched 44724 instruments from server.\n"
     ]
    }
   ],
   "source": [
    "Instruments = fetchInstrumentsFromServer()\n",
    "# Instruments"
   ]
  },
  {
   "cell_type": "code",
   "execution_count": 17,
   "id": "c9ec9b40-b15d-40f5-8ead-9f7e4b43e597",
   "metadata": {},
   "outputs": [],
   "source": [
    "# Creating the map\n",
    "symbol_to_token = {item['tradingsymbol']: item['instrument_token'] for item in Instruments}\n",
    "token_to_symbol = {item['instrument_token']: item['tradingsymbol'] for item in Instruments}"
   ]
  },
  {
   "cell_type": "code",
   "execution_count": 23,
   "id": "7aff9279-f0ac-4a97-8036-a4fb95ea74e7",
   "metadata": {},
   "outputs": [],
   "source": [
    "def get_symbol_to_token(tradingsymbol):\n",
    "    return symbol_to_token.get(tradingsymbol)\n",
    "def get_token_to_symbol(instrument_token):\n",
    "    return token_to_symbol.get(instrument_token)"
   ]
  },
  {
   "cell_type": "code",
   "execution_count": 25,
   "id": "e541e56d-ae46-4210-8eca-4eb15b84b22d",
   "metadata": {},
   "outputs": [
    {
     "data": {
      "text/plain": [
       "256265"
      ]
     },
     "execution_count": 25,
     "metadata": {},
     "output_type": "execute_result"
    }
   ],
   "source": [
    "# Example usage\n",
    "tradingsymbol = 'NIFTY 50'\n",
    "get_symbol_to_token(tradingsymbol)"
   ]
  },
  {
   "cell_type": "code",
   "execution_count": 26,
   "id": "3694e755-e107-45fc-b060-13612ef4e5fb",
   "metadata": {},
   "outputs": [
    {
     "data": {
      "text/plain": [
       "'NIFTY 50'"
      ]
     },
     "execution_count": 26,
     "metadata": {},
     "output_type": "execute_result"
    }
   ],
   "source": [
    "instrument_token = 256265\n",
    "get_token_to_symbol(instrument_token)"
   ]
  },
  {
   "cell_type": "markdown",
   "id": "21b0223b-6b9b-44c5-8370-ca03de0f79cd",
   "metadata": {},
   "source": [
    "# Order Placement"
   ]
  },
  {
   "cell_type": "code",
   "execution_count": 10,
   "id": "e7881426-2f67-4eae-9ecb-fa5ea43b27cf",
   "metadata": {},
   "outputs": [],
   "source": [
    "class KiteConstants:\n",
    "    #Products\n",
    "    PRODUCT_MIS = \"MIS\"\n",
    "    PRODUCT_CNC = \"CNC\"\n",
    "    PRODUCT_NRML = \"NRML\"\n",
    "    PRODUCT_CO = \"CO\"\n",
    "\n",
    "    # Order types\n",
    "    ORDER_TYPE_MARKET = \"MARKET\"\n",
    "    ORDER_TYPE_LIMIT = \"LIMIT\"\n",
    "    ORDER_TYPE_SLM = \"SL-M\"\n",
    "    ORDER_TYPE_SL = \"SL\"\n",
    "\n",
    "    # Varities\n",
    "    VARIETY_REGULAR = \"regular\"\n",
    "    VARIETY_CO = \"co\"\n",
    "    VARIETY_AMO = \"amo\"\n",
    "    VARIETY_ICEBERG = \"iceberg\"\n",
    "    VARIETY_AUCTION = \"auction\"\n",
    "\n",
    "    # Transaction type\n",
    "    TRANSACTION_TYPE_BUY = \"BUY\"\n",
    "    TRANSACTION_TYPE_SELL = \"SELL\"\n",
    "\n",
    "    # Validity\n",
    "    VALIDITY_DAY = \"DAY\"\n",
    "    VALIDITY_IOC = \"IOC\"\n",
    "    VALIDITY_TTL = \"TTL\"\n",
    "\n",
    "    # Position Type\n",
    "    POSITION_TYPE_DAY = \"day\"\n",
    "    POSITION_TYPE_OVERNIGHT = \"overnight\"\n",
    "\n",
    "    # Exchanges\n",
    "    EXCHANGE_NSE = \"NSE\"\n",
    "    EXCHANGE_BSE = \"BSE\"\n",
    "    EXCHANGE_NFO = \"NFO\"\n",
    "    EXCHANGE_CDS = \"CDS\"\n",
    "    EXCHANGE_BFO = \"BFO\"\n",
    "    EXCHANGE_MCX = \"MCX\"\n",
    "    EXCHANGE_BCD = \"BCD\"\n",
    "\n",
    "    # Margins segments\n",
    "    MARGIN_EQUITY = \"equity\"\n",
    "    MARGIN_COMMODITY = \"commodity\"\n",
    "\n",
    "    # Status constants\n",
    "    STATUS_COMPLETE = \"COMPLETE\"\n",
    "    STATUS_REJECTED = \"REJECTED\"\n",
    "    STATUS_CANCELLED = \"CANCELLED\"\n",
    "\n",
    "    # GTT order type\n",
    "    GTT_TYPE_OCO = \"two-leg\"\n",
    "    GTT_TYPE_SINGLE = \"single\"\n",
    "\n",
    "    # GTT order status\n",
    "    GTT_STATUS_ACTIVE = \"active\"\n",
    "    GTT_STATUS_TRIGGERED = \"triggered\"\n",
    "    GTT_STATUS_DISABLED = \"disabled\"\n",
    "    GTT_STATUS_EXPIRED = \"expired\"\n",
    "    GTT_STATUS_CANCELLED = \"cancelled\"\n",
    "    GTT_STATUS_REJECTED = \"rejected\"\n",
    "    GTT_STATUS_DELETED = \"deleted\"\n"
   ]
  },
  {
   "cell_type": "code",
   "execution_count": 11,
   "id": "fb046fe1-ae27-44e7-9dcd-cb51dc1c6d67",
   "metadata": {},
   "outputs": [],
   "source": [
    "class OrderState:\n",
    "    OPEN = \"OPEN\"\n",
    "    COMPLETE = \"COMPLETE\"\n",
    "    REJECTED = \"REJECTED\"\n",
    "    CANCELLED = \"CANCELLED\""
   ]
  },
  {
   "cell_type": "code",
   "execution_count": 12,
   "id": "c2eff471-f0d0-4123-96b7-9fc3f3106b4b",
   "metadata": {},
   "outputs": [],
   "source": [
    "class Order:\n",
    "    def __init__(self, variety, exchange, trading_symbol, transaction_type, quantity, product, order_type, price=None, trigger_price=None):\n",
    "        self.variety=variety\n",
    "        self.exchange=exchange\n",
    "        self.trading_symbol=trading_symbol\n",
    "        self.transaction_type=transaction_type\n",
    "        self.quantity=quantity\n",
    "        self.product=product\n",
    "        self.order_type=order_type\n",
    "        self.price=price\n",
    "        self.trigger_price=trigger_price\n",
    "        self.average_price=None # Average price at which the order is filled\n",
    "        self.order_id=None\n",
    "        self.order_status=None\n",
    "        self.filled_qty = 0 # Filled quantity\n",
    "        self.pending_qty = 0 # Pending qty\n",
    "        self.order_place_timestamp = None # Timestamp when the order is placed\n",
    "        self.order_timestamp = None # Broker timestamp\n",
    "        self.exchange_timestamp = None #Exchange timestamp\n",
    "        self.lastOrderUpdateTimestamp = None # Applicable if you modify the order Ex: Trailing SL\n",
    "        self.message = None # In case any order rejection or any other error save the response from broker in this field\n",
    "    \n",
    "    def set_average_price(self, average_price):\n",
    "        self.average_price = average_price\n",
    "    \n",
    "    def set_order_id(self, order_id):\n",
    "        self.order_id = order_id\n",
    "        \n",
    "    def change_order_status(self, order_status):\n",
    "        self.order_status = order_status\n",
    "\n",
    "    def set_filled_qty(self, filled_qty):\n",
    "        self.filled_qty = filled_qty\n",
    "\n",
    "    def set_pending_qty(self, pending_qty):\n",
    "        self.pending_qty = pending_qty\n",
    "\n",
    "    def set_order_timestamp(self, order_timestamp):\n",
    "        self.order_timestamp = order_timestamp\n",
    "\n",
    "    def set_exchange_timestamp(self, exchange_timestamp):\n",
    "        self.exchange_timestamp = exchange_timestamp\n",
    "\n",
    "    def set_message(self, message):\n",
    "        self.message = message"
   ]
  },
  {
   "cell_type": "code",
   "execution_count": null,
   "id": "9922b291-d4c4-4897-a637-e95dd58fad4a",
   "metadata": {},
   "outputs": [],
   "source": []
  },
  {
   "cell_type": "code",
   "execution_count": 13,
   "id": "01f9d6c2-65ab-4b0c-b1ef-a92af9b184e3",
   "metadata": {},
   "outputs": [],
   "source": [
    "def placeOrder(order):\n",
    "    broker = \"Zerodha\"\n",
    "    kite = kite_handler\n",
    "    try:\n",
    "        order_id = kite.place_order(\n",
    "        variety=kite.VARIETY_REGULAR,\n",
    "        exchange=order.exchange,\n",
    "        tradingsymbol=order.trading_symbol,\n",
    "        transaction_type=order.transaction_type,\n",
    "        quantity=order.quantity,\n",
    "        price=order.price,\n",
    "        trigger_price=order.trigger_price,\n",
    "        product=order.product,\n",
    "        order_type=order.order_type)\n",
    "        logging.info(f'Order placed successfully, order_id = {order_id}')\n",
    "        order.set_order_id(order_id)\n",
    "    except Exception as e:\n",
    "        logging.info(\"Order placement failed: {e}\")\n",
    "        raise Exception(str(e))"
   ]
  },
  {
   "cell_type": "code",
   "execution_count": 18,
   "id": "5487bfe9-8268-4a83-9767-90e562dea506",
   "metadata": {},
   "outputs": [],
   "source": [
    "try_order = Order(variety=KiteConstants.VARIETY_REGULAR, exchange=KiteConstants.EXCHANGE_NSE, trading_symbol=\"ITC\", transaction_type=KiteConstants.TRANSACTION_TYPE_BUY, quantity=1, product=KiteConstants.PRODUCT_MIS, order_type=KiteConstants.ORDER_TYPE_MARKET)"
   ]
  },
  {
   "cell_type": "code",
   "execution_count": 18,
   "id": "84d5fee3-1185-4979-a28f-0c5cea6f6df1",
   "metadata": {},
   "outputs": [],
   "source": [
    "try_order_2 = Order(variety=KiteConstants.VARIETY_REGULAR, exchange=KiteConstants.EXCHANGE_NSE, trading_symbol=\"ITC\", transaction_type=KiteConstants.TRANSACTION_TYPE_BUY, quantity=1, product=KiteConstants.PRODUCT_MIS, order_type=KiteConstants.ORDER_TYPE_MARKET)"
   ]
  },
  {
   "cell_type": "code",
   "execution_count": 19,
   "id": "8c8fdb70-ffcc-44d8-8e07-38c5bdfacdba",
   "metadata": {},
   "outputs": [
    {
     "name": "stderr",
     "output_type": "stream",
     "text": [
      "DEBUG:urllib3.connectionpool:https://api.kite.trade:443 \"POST /orders/regular HTTP/11\" 200 None\n",
      "INFO:root:Order placed successfully, order_id = 241219201577784\n"
     ]
    }
   ],
   "source": [
    "placeOrder(try_order)"
   ]
  },
  {
   "cell_type": "code",
   "execution_count": 19,
   "id": "66ff95f0-d339-4401-bc11-8ca1759c74bd",
   "metadata": {},
   "outputs": [
    {
     "name": "stderr",
     "output_type": "stream",
     "text": [
      "DEBUG:urllib3.connectionpool:https://api.kite.trade:443 \"POST /orders/regular HTTP/11\" 200 None\n",
      "INFO:root:Order placed successfully, order_id = 241219201546167\n"
     ]
    }
   ],
   "source": [
    "placeOrder(try_order_2)"
   ]
  },
  {
   "cell_type": "code",
   "execution_count": 20,
   "id": "09445302-b6f8-42ec-9521-d3a2133bf66a",
   "metadata": {},
   "outputs": [
    {
     "data": {
      "text/plain": [
       "'241219201546167'"
      ]
     },
     "execution_count": 20,
     "metadata": {},
     "output_type": "execute_result"
    }
   ],
   "source": [
    "try_order_2.order_id"
   ]
  },
  {
   "cell_type": "code",
   "execution_count": 23,
   "id": "3695d793-684e-49c5-9623-55c21ae4974d",
   "metadata": {},
   "outputs": [
    {
     "name": "stdout",
     "output_type": "stream",
     "text": [
      "{'account_id': 'BI3034',\n",
      " 'average_price': 467,\n",
      " 'cancelled_quantity': 0,\n",
      " 'checksum': '',\n",
      " 'disclosed_quantity': 0,\n",
      " 'exchange': 'NSE',\n",
      " 'exchange_order_id': '1100000042846003',\n",
      " 'exchange_timestamp': '2024-12-19 13:37:24',\n",
      " 'exchange_update_timestamp': '2024-12-19 13:37:24',\n",
      " 'filled_quantity': 1,\n",
      " 'guid': '130032XxOepiy817I2E',\n",
      " 'instrument_token': 424961,\n",
      " 'market_protection': 0,\n",
      " 'meta': {},\n",
      " 'order_id': '241219201546167',\n",
      " 'order_timestamp': '2024-12-19 13:37:24',\n",
      " 'order_type': 'MARKET',\n",
      " 'parent_order_id': None,\n",
      " 'pending_quantity': 0,\n",
      " 'placed_by': 'BI3034',\n",
      " 'price': 0,\n",
      " 'product': 'MIS',\n",
      " 'quantity': 1,\n",
      " 'status': 'COMPLETE',\n",
      " 'status_message': None,\n",
      " 'status_message_raw': None,\n",
      " 'tag': None,\n",
      " 'tradingsymbol': 'ITC',\n",
      " 'transaction_type': 'BUY',\n",
      " 'trigger_price': 0,\n",
      " 'unfilled_quantity': 0,\n",
      " 'validity': 'DAY',\n",
      " 'variety': 'regular'}\n"
     ]
    }
   ],
   "source": [
    "data = {'account_id': 'BI3034', 'unfilled_quantity': 0, 'checksum': '', 'placed_by': 'BI3034', 'order_id': '241219201546167', 'exchange_order_id': '1100000042846003', 'parent_order_id': None, 'status': 'COMPLETE', 'status_message': None, 'status_message_raw': None, 'order_timestamp': '2024-12-19 13:37:24', 'exchange_update_timestamp': '2024-12-19 13:37:24', 'exchange_timestamp': '2024-12-19 13:37:24', 'variety': 'regular', 'exchange': 'NSE', 'tradingsymbol': 'ITC', 'instrument_token': 424961, 'order_type': 'MARKET', 'transaction_type': 'BUY', 'validity': 'DAY', 'product': 'MIS', 'quantity': 1, 'disclosed_quantity': 0, 'price': 0, 'trigger_price': 0, 'average_price': 467, 'filled_quantity': 1, 'pending_quantity': 0, 'cancelled_quantity': 0, 'market_protection': 0, 'meta': {}, 'tag': None, 'guid': '130032XxOepiy817I2E'}\n",
    "pprint(data)"
   ]
  },
  {
   "cell_type": "code",
   "execution_count": 16,
   "id": "b0071cf3-d46d-4236-aec5-866e75ecdce7",
   "metadata": {},
   "outputs": [],
   "source": [
    "def order_update(ws, data):\n",
    "    logging.info(data)\n",
    "    if(try_order.order_id == data['order_id']):\n",
    "        try_order.set_exchange_timestamp(data['exchange_timestamp'])\n",
    "        try_order.set_filled_qty(data['filled_quantity'])\n",
    "        try_order.set_pending_qty(data['pending_quantity'])\n",
    "        try_order.change_order_status(data['status'])"
   ]
  },
  {
   "cell_type": "code",
   "execution_count": 17,
   "id": "505d9656-2ce2-4849-a28e-f373a2ad70d1",
   "metadata": {},
   "outputs": [],
   "source": [
    "kws.on_order_update = order_update"
   ]
  },
  {
   "cell_type": "code",
   "execution_count": 25,
   "id": "081523cd-1ed6-4f66-b2ee-e576e02b88bc",
   "metadata": {},
   "outputs": [
    {
     "data": {
      "text/plain": [
       "'COMPLETE'"
      ]
     },
     "execution_count": 25,
     "metadata": {},
     "output_type": "execute_result"
    }
   ],
   "source": [
    "try_order.order_status"
   ]
  },
  {
   "cell_type": "code",
   "execution_count": null,
   "id": "d32c144d-ef03-484f-96c5-4efdc7a0b636",
   "metadata": {},
   "outputs": [],
   "source": []
  }
 ],
 "metadata": {
  "kernelspec": {
   "display_name": "Python [conda env:backtest] *",
   "language": "python",
   "name": "conda-env-backtest-py"
  },
  "language_info": {
   "codemirror_mode": {
    "name": "ipython",
    "version": 3
   },
   "file_extension": ".py",
   "mimetype": "text/x-python",
   "name": "python",
   "nbconvert_exporter": "python",
   "pygments_lexer": "ipython3",
   "version": "3.12.4"
  }
 },
 "nbformat": 4,
 "nbformat_minor": 5
}
